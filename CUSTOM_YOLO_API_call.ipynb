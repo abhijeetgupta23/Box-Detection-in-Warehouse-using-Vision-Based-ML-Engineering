{
 "cells": [
  {
   "cell_type": "markdown",
   "metadata": {},
   "source": [
    "Run server (localhost) - !python -m uvicorn main:app"
   ]
  },
  {
   "cell_type": "markdown",
   "metadata": {},
   "source": [
    "### API call (using requests Py Library POST)"
   ]
  },
  {
   "cell_type": "code",
   "execution_count": 11,
   "metadata": {},
   "outputs": [],
   "source": [
    "import requests\n",
    "\n",
    "# URL of your FastAPI endpoint\n",
    "url = \"http://localhost:8000/YOLO_Box_Prediction_Service/\"\n",
    "\n",
    "# Path to the image file you want to upload\n",
    "image_path = \"example_input.jpg\"\n",
    "\n",
    "# Open the image file and send it in the POST request|\n",
    "with open(image_path, \"rb\") as file:\n",
    "    # Reset the file pointer to the beginning of the file\n",
    "    file.seek(0)\n",
    "\n",
    "    files = {'file': file}\n",
    "    response = requests.post(url, files=files)\n"
   ]
  },
  {
   "cell_type": "code",
   "execution_count": 3,
   "metadata": {},
   "outputs": [
    {
     "data": {
      "text/plain": [
       "{'file_metadata': {'file_name': 'example_output.jpg', 'file_size': 63503},\n",
       " 'file_data': {'path': 'example_output.jpg',\n",
       "  'status_code': 200,\n",
       "  'filename': None,\n",
       "  'media_type': 'image/jpeg',\n",
       "  'background': None,\n",
       "  'raw_headers': [['content-type', 'image/jpeg']],\n",
       "  'stat_result': None}}"
      ]
     },
     "execution_count": 3,
     "metadata": {},
     "output_type": "execute_result"
    }
   ],
   "source": [
    "# Print the response to check if API worked as needed\n",
    "response.json()"
   ]
  },
  {
   "cell_type": "code",
   "execution_count": 12,
   "metadata": {},
   "outputs": [],
   "source": [
    "import requests\n",
    "\n",
    "def get_container_label(image_path):\n",
    "    \n",
    "    # URL of your FastAPI endpoint\n",
    "    url = \"http://localhost:8000/YOLO_Box_Prediction_Service/\"\n",
    "\n",
    "    # Open the image file and send it in the POST request\n",
    "    with open(image_path, \"rb\") as file:\n",
    "        # Reset the file pointer to the beginning of the file\n",
    "        file.seek(0)\n",
    "\n",
    "        files = {'file': file}\n",
    "        response = requests.post(url, files=files)\n",
    "\n",
    "        return response.json()"
   ]
  },
  {
   "cell_type": "code",
   "execution_count": 13,
   "metadata": {},
   "outputs": [
    {
     "data": {
      "text/plain": [
       "{'file_metadata': {'file_name': 'example_output.jpg', 'file_size': 63503},\n",
       " 'file_data': {'path': 'example_output.jpg',\n",
       "  'status_code': 200,\n",
       "  'filename': None,\n",
       "  'media_type': 'image/jpeg',\n",
       "  'background': None,\n",
       "  'raw_headers': [['content-type', 'image/jpeg']],\n",
       "  'stat_result': None}}"
      ]
     },
     "execution_count": 13,
     "metadata": {},
     "output_type": "execute_result"
    }
   ],
   "source": [
    "get_container_label(\"example_input.jpg\")"
   ]
  },
  {
   "cell_type": "markdown",
   "metadata": {},
   "source": [
    "Alternatively, a Web UI can be used for YOLO Box Prediction - by clicking on  http://localhost:8000/"
   ]
  }
 ],
 "metadata": {
  "kernelspec": {
   "display_name": "YOLO_Object_Detection",
   "language": "python",
   "name": "python3"
  },
  "language_info": {
   "codemirror_mode": {
    "name": "ipython",
    "version": 3
   },
   "file_extension": ".py",
   "mimetype": "text/x-python",
   "name": "python",
   "nbconvert_exporter": "python",
   "pygments_lexer": "ipython3",
   "version": "3.11.8"
  }
 },
 "nbformat": 4,
 "nbformat_minor": 2
}
